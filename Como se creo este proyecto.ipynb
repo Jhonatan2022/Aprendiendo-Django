{
 "cells": [
  {
   "attachments": {},
   "cell_type": "markdown",
   "metadata": {},
   "source": [
    "# Implementando Django\n",
    "\n",
    "#### Requisitos\n",
    "\n",
    "1. Terner python instalado https://www.python.org/downloads/\n",
    "\n",
    "- + Comprobamos la correcta instalación de python y pip en consola digitando ``python --version`` y ``pip --version``\n",
    "\n",
    "![](imagenes/intalacion.png)\n",
    "\n",
    "2. A continuación crearemos un entorno virtual para instalar Django\n",
    "\n",
    "- + Primero nos dirigiremos por cmd a la carpeta creamos para nuestro proyecto \n",
    "\n",
    "![](imagenes/cmd.png)\n",
    "\n",
    "3. Ahora crearemos el entorno virtual con el comando ``pip install virtualenv``\n",
    "\n",
    "![](imagenes/entornovirtual.png)\n",
    "\n",
    "- + Ahora podremos mirar la version de virtualenv con el comando ``virtualenv --version``\n",
    "\n",
    "![](imagenes/versionvirtual.png)\n",
    "\n",
    "- + Ahora crearemos el entorno virtual con el comando ``virtualenv nombre_entorno``\n",
    "\n",
    "![](imagenes/entornocreado.png)\n",
    "\n",
    "4. Ahora activaremos el entorno virtual con el comando ``nombre_entorno\\Scripts\\activate``\n",
    "\n",
    "![](imagenes/activandoentorno.png)\n",
    "\n",
    "<details>\n",
    "<summary><strong style=\"font-size: 22px;\">En caso de que genere Error</strong></summary>\n",
    "\n",
    "![](imagenes/error.png)\n",
    "\n",
    "- + Para solucionar este error debemos ejecutar powershell como administrador y ejecutar el comando ``Set-ExecutionPolicy RemoteSigned``\n",
    "\n",
    "![](imagenes/solucionerror.png)\n",
    "</details>\n",
    "\n",
    "5. Ahora podremos verificar que version de python y pip estamos usando en nuestro entorno virtual con el comando ``python --version`` y ``pip --version``\n",
    "\n",
    "![](imagenes/versiones%20del%20entorno.png)"
   ]
  },
  {
   "attachments": {},
   "cell_type": "markdown",
   "metadata": {},
   "source": [
    "# Intalación de Django\n",
    "\n",
    "1. Ahora instalaremos Django con el comando ``pip install django``\n",
    "\n",
    "![](imagenes/intalando%20django.png)\n",
    "\n",
    "- + Comprobamos la correcta instalación de Django con el comando ``django-admin --version``  o ``python -m django --version``\n",
    "\n",
    " ![](imagenes/version%20django.png)\n",
    "\n",
    "- + Otra forma de comprobar la instalación de Django es accediendo al interprete de python y ejecutando el comando ``import django`` y ``django.get_version``\n",
    "\n",
    "![](imagenes/interprete.png)"
   ]
  },
  {
   "attachments": {},
   "cell_type": "markdown",
   "metadata": {},
   "source": [
    "# creando un proyecto con Django\n",
    "\n",
    "1. Ahora crearemos un proyecto con el comando ``django-admin startproject nombre_proyecto``\n",
    "\n",
    "+ También puedes usar el comando ```django-admin startproject mysite .`` Este ultimo comando crea el proyecto en la carpeta actual y no dentro de una carpeta.\n",
    "\n",
    "![](imagenes/proyecto%20creado.png)"
   ]
  }
 ],
 "metadata": {
  "language_info": {
   "name": "python"
  },
  "orig_nbformat": 4
 },
 "nbformat": 4,
 "nbformat_minor": 2
}
