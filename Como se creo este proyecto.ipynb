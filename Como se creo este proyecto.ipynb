{
 "cells": [
  {
   "attachments": {},
   "cell_type": "markdown",
   "metadata": {},
   "source": [
    "# Implementando Django\n",
    "\n",
    "#### Requisitos\n",
    "\n",
    "1. Terner python instalado https://www.python.org/downloads/\n",
    "\n",
    "- + Comprobamos la correcta instalación de python y pip en consola digitando ``python --version`` y ``pip --version``\n",
    "\n",
    "![Imagenes\\intalacion.png](Imagenes/intalacion.png)\n",
    "\n",
    "2. A continuación crearemos un entorno virtual para instalar Django\n",
    "\n",
    "- + Primero nos dirigiremos por cmd a la carpeta creamos para nuestro proyecto \n",
    "\n",
    "![Imagenes\\cmd.png](Imagenes/cmd.png)\n",
    "\n",
    "3. Ahora crearemos el entorno virtual con el comando ``pip install virtualenv``\n",
    "\n",
    "![Imagenes\\entornovirtual.png](Imagenes/entornovirtual.png)\n",
    "\n",
    "- + Ahora podremos mirar la version de virtualenv con el comando ``virtualenv --version``\n",
    "\n",
    "![Imagenes\\versionvirtual.png](Imagenes/versionvirtual.png)\n",
    "\n",
    "- + Ahora crearemos el entorno virtual con el comando ``virtualenv nombre_entorno``\n",
    "\n",
    "![Imagenes\\entornocreado.png](Imagenes/entornocreado.png)\n",
    "\n",
    "4. Ahora activaremos el entorno virtual con el comando ``nombre_entorno\\Scripts\\activate``\n",
    "\n",
    "![Imagenes\\activandoentorno.png](Imagenes/activandoentorno.png)\n",
    "\n",
    "<details>\n",
    "<summary><strong style=\"font-size: 22px;\">En caso de que genere Error</strong></summary>\n",
    "\n",
    "![Imagenes\\error.png](Imagenes/error.png)\n",
    "\n",
    "- + Para solucionar este error debemos ejecutar powershell como administrador y ejecutar el comando ``Set-ExecutionPolicy RemoteSigned``\n",
    "\n",
    "![Imagenes\\solucionerror.png](Imagenes/solucionerror.png)\n",
    "</details>\n",
    "\n",
    "5. Ahora podremos verificar que version de python y pip estamos usando en nuestro entorno virtual con el comando ``python --version`` y ``pip --version``\n",
    "\n",
    "![Imagenes\\versiones%20del%20entorno.png](Imagenes/versiones%20del%20entorno.png)"
   ]
  },
  {
   "attachments": {},
   "cell_type": "markdown",
   "metadata": {},
   "source": [
    "# Intalación de Django\n",
    "\n",
    "1. Ahora instalaremos Django con el comando ``pip install django``\n",
    "\n",
    "![Imagenes\\intalando%20django.png](Imagenes/intalando%20django.png)\n",
    "\n",
    "- + Comprobamos la correcta instalación de Django con el comando ``django-admin --version``  o ``python -m django --version``\n",
    "\n",
    " ![Imagenes\\version%20django.png](Imagenes/version%20django.png)\n",
    "\n",
    "- + Otra forma de comprobar la instalación de Django es accediendo al interprete de python y ejecutando el comando ``import django`` y ``django.get_version``\n",
    "\n",
    "![Imagenes\\interprete.png](Imagenes/interprete.png)"
   ]
  },
  {
   "attachments": {},
   "cell_type": "markdown",
   "metadata": {},
   "source": [
    "# creando un proyecto con Django\n",
    "\n",
    "1. Ahora crearemos un proyecto con el comando ``django-admin startproject nombre_proyecto``\n",
    "\n",
    "+ También puedes usar el comando ```django-admin startproject mysite .`` Este ultimo comando crea el proyecto en la carpeta actual y no dentro de una carpeta.\n",
    "\n",
    "![Imagenes\\proyecto%20creado.png](Imagenes/proyecto%20creado.png)"
   ]
  },
  {
   "attachments": {},
   "cell_type": "markdown",
   "metadata": {},
   "source": [
    "# Inmersión en el proyecto y sus archivos \n",
    "\n",
    "1. Ahora veremos los archivos que se crearon al crear el proyecto ``manage.py`` y ````\n",
    "\n",
    "- + ``manage.py`` es un script de utilidad que nos permite interactuar con el proyecto de varias formas. Puede leer más sobre en la documentación de Django.\n",
    "\n",
    "- + En este caso usaremos el comando ``python manage.py runserver`` para ejecutar el servidor, si ya tienes otro aplicativo funcionando en ese mismo servidor puedes indicarle a python que se gestione en otro con ``python manage.py runserver 3000``.\n",
    "\n",
    "![Imagenes\\servidor%20corriendo.png](Imagenes/servidor%20corriendo.png)\n",
    "\n",
    "- + Podemos ver los comandos básicos que podemos usar con el comando ``python manage.py help``\n",
    "\n",
    "![Imagenes\\comandos%20basicos.png](Imagenes/comandos%20basicos.png)"
   ]
  },
  {
   "attachments": {},
   "cell_type": "markdown",
   "metadata": {},
   "source": [
    "# Creación de aplicaciones\n",
    "\n",
    "1. Ahora crearemos una aplicación con el comando ``python manage.py startapp nombre_aplicacion``\n",
    "\n",
    "![Imagenes\\creando%20aplicacion.png](Imagenes/creando%20aplicacion.png)\n"
   ]
  }
 ],
 "metadata": {
  "language_info": {
   "name": "python"
  },
  "orig_nbformat": 4
 },
 "nbformat": 4,
 "nbformat_minor": 2
}
