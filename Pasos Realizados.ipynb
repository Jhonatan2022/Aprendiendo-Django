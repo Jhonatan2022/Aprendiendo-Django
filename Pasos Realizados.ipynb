{
 "cells": [
  {
   "attachments": {},
   "cell_type": "markdown",
   "metadata": {},
   "source": [
    "# Implementando Django\n",
    "## Requisitos\n",
    "1. Terner python instalado [Python](https://www.python.org/downloads/)\n",
    "```sh\n",
    "python --version\n",
    "pip --version\n",
    "```\n",
    "\n",
    "2. A continuación crearemos un entorno virtual para instalar Django\n",
    "```sh\n",
    "pip install virtualenv\n",
    "virtualenv --version\n",
    "virtualenv nombre_entorno # Crear entorno virtual\n",
    ".\\nombre_entorno\\Scripts\\activate # Activar entorno virtual\n",
    "```\n",
    "\n",
    "<details>\n",
    "<summary><strong style=\"font-size: 22px;\">En caso de Error</strong></summary>\n",
    "\n",
    "![img\\error.png](img/error.png)\n",
    "\n",
    "* Solución: Ejecutar powershell como administrador y poner el comando ``Set-ExecutionPolicy RemoteSigned``\n",
    "\n",
    "![img\\solucionerror.png](img/solucionerror.png)\n",
    "</details>"
   ]
  },
  {
   "attachments": {},
   "cell_type": "markdown",
   "metadata": {},
   "source": [
    "# Intalación de Django\n",
    "1. Ahora instalaremos Django \n",
    "```sh\n",
    "pip install django\n",
    "python -m django --version # Comprobar la version de Django\n",
    "```\n",
    "\n",
    "# creando un proyecto con Django\n",
    "```sh\n",
    "django-admin startproject nombre_proyecto . # Crear proyecto\n",
    "```\n",
    "\n",
    "# Inmersión en el proyecto y sus archivos \n",
    "1. [Manage.py](https://docs.djangoproject.com/en/4.2/ref/django-admin/) es un script que nos permite interactuar con el proyecto de varias formas\n",
    "\n",
    "```sh\t\n",
    "python manage.py runserver # Ejecutar servidor\n",
    "python manage.py runserver 3000 # Ejecutar servidor en otro puerto\n",
    "python manage.py help # Comandos basicos\n",
    "```"
   ]
  },
  {
   "attachments": {},
   "cell_type": "markdown",
   "metadata": {},
   "source": [
    "# Creación de aplicaciones\n",
    "```sh\n",
    "python manage.py startapp nombre_aplicacion # Crear aplicacion\n",
    "```\n",
    "\n",
    "## Visualización de la base de datos que tenemos en el proyecto\n",
    "* [db browser for sqlite](https://sqlitebrowser.org/dl/ ) para visualizar la base de datos.\n",
    "```sh\n",
    "python manage.py migrate # Crear tablas de la base de datos\n",
    "```\n",
    "![](img/Database%20migrate.png)\n",
    "\n",
    "## Uniendo la aplicación con el proyecto\n",
    "1. Entramos en ``settings.py`` y agregar la aplicación en la lista ``INSTALLED_APPS``\n",
    "\n",
    "![](img/Add%20aplication.png)\n",
    "\n",
    "```sh\t\n",
    "python manage.py makemigrations # Buscamos las nuevas migraciones\n",
    "python manage.py makemigrations nombre_aplicacion # App especifica\n",
    "python manage.py migrate # Migrar los cambios a la base de datos\n",
    "```\n",
    "\n",
    "# Creando un super usuario\n",
    "```sh\n",
    "python manage.py createsuperuser # Crear super usuario PS: peperoni\n",
    "# URL de administración: http://Puerto:/admin/\n",
    "pip freeze > requirements.txt # Crear archivo con las dependencias del proyecto\n",
    "```"
   ]
  }
 ],
 "metadata": {
  "language_info": {
   "name": "python"
  },
  "orig_nbformat": 4
 },
 "nbformat": 4,
 "nbformat_minor": 2
}
